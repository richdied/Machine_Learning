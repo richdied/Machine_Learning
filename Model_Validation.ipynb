{
  "nbformat": 4,
  "nbformat_minor": 0,
  "metadata": {
    "colab": {
      "name": "Model_Validation.ipynb",
      "provenance": [],
      "collapsed_sections": [],
      "include_colab_link": true
    },
    "kernelspec": {
      "name": "python3",
      "display_name": "Python 3"
    }
  },
  "cells": [
    {
      "cell_type": "markdown",
      "metadata": {
        "id": "view-in-github",
        "colab_type": "text"
      },
      "source": [
        "<a href=\"https://colab.research.google.com/github/richdied/Machine_Learning/blob/main/Model_Validation.ipynb\" target=\"_parent\"><img src=\"https://colab.research.google.com/assets/colab-badge.svg\" alt=\"Open In Colab\"/></a>"
      ]
    },
    {
      "cell_type": "markdown",
      "metadata": {
        "id": "iPHb2AJaAX8g"
      },
      "source": [
        "# Model Validation"
      ]
    },
    {
      "cell_type": "code",
      "metadata": {
        "id": "RbPgODpVzdHI"
      },
      "source": [
        "import warnings\n",
        "warnings.filterwarnings('ignore')"
      ],
      "execution_count": null,
      "outputs": []
    },
    {
      "cell_type": "markdown",
      "metadata": {
        "id": "tArwfR_UAe0l"
      },
      "source": [
        "# I. Model Capacity"
      ]
    },
    {
      "cell_type": "markdown",
      "metadata": {
        "id": "65ESnpuwAsPB"
      },
      "source": [
        "* import Packages"
      ]
    },
    {
      "cell_type": "code",
      "metadata": {
        "id": "jXiBZJaO2lJO"
      },
      "source": [
        "import pandas as pd\n",
        "import matplotlib.pyplot as plt\n",
        "import seaborn as sns "
      ],
      "execution_count": null,
      "outputs": []
    },
    {
      "cell_type": "markdown",
      "metadata": {
        "id": "e4wcJB9oCz0V"
      },
      "source": [
        "* pandas DataFrame\n",
        " - 'Electric.csv' From github"
      ]
    },
    {
      "cell_type": "code",
      "metadata": {
        "id": "Ekqpr3cN4rsm",
        "colab": {
          "base_uri": "https://localhost:8080/"
        },
        "outputId": "9871dee8-7c41-4662-c122-93d8a1b67d44"
      },
      "source": [
        "url = 'https://raw.githubusercontent.com/rusita-ai/pyData/master/Electric.csv'\n",
        "\n",
        "Elec = pd.read_csv(url)\n",
        "\n",
        "Elec.info()"
      ],
      "execution_count": null,
      "outputs": [
        {
          "output_type": "stream",
          "name": "stdout",
          "text": [
            "<class 'pandas.core.frame.DataFrame'>\n",
            "RangeIndex: 768 entries, 0 to 767\n",
            "Data columns (total 9 columns):\n",
            " #   Column                     Non-Null Count  Dtype  \n",
            "---  ------                     --------------  -----  \n",
            " 0   compactness                768 non-null    float64\n",
            " 1   surface_area               768 non-null    float64\n",
            " 2   wall_area                  768 non-null    float64\n",
            " 3   roof_area                  768 non-null    float64\n",
            " 4   height                     768 non-null    float64\n",
            " 5   orientation                768 non-null    int64  \n",
            " 6   glazing_area               768 non-null    float64\n",
            " 7   glazing_area_distribution  768 non-null    int64  \n",
            " 8   electricity                768 non-null    float64\n",
            "dtypes: float64(7), int64(2)\n",
            "memory usage: 54.1 KB\n"
          ]
        }
      ]
    },
    {
      "cell_type": "code",
      "metadata": {
        "id": "zHO3uyI6c7ci",
        "colab": {
          "base_uri": "https://localhost:8080/",
          "height": 224
        },
        "outputId": "82b34cc0-30b2-4b16-aa89-df83d8d96da0"
      },
      "source": [
        "Elec.head()"
      ],
      "execution_count": null,
      "outputs": [
        {
          "output_type": "execute_result",
          "data": {
            "text/html": [
              "<div>\n",
              "<style scoped>\n",
              "    .dataframe tbody tr th:only-of-type {\n",
              "        vertical-align: middle;\n",
              "    }\n",
              "\n",
              "    .dataframe tbody tr th {\n",
              "        vertical-align: top;\n",
              "    }\n",
              "\n",
              "    .dataframe thead th {\n",
              "        text-align: right;\n",
              "    }\n",
              "</style>\n",
              "<table border=\"1\" class=\"dataframe\">\n",
              "  <thead>\n",
              "    <tr style=\"text-align: right;\">\n",
              "      <th></th>\n",
              "      <th>compactness</th>\n",
              "      <th>surface_area</th>\n",
              "      <th>wall_area</th>\n",
              "      <th>roof_area</th>\n",
              "      <th>height</th>\n",
              "      <th>orientation</th>\n",
              "      <th>glazing_area</th>\n",
              "      <th>glazing_area_distribution</th>\n",
              "      <th>electricity</th>\n",
              "    </tr>\n",
              "  </thead>\n",
              "  <tbody>\n",
              "    <tr>\n",
              "      <th>0</th>\n",
              "      <td>0.98</td>\n",
              "      <td>514.5</td>\n",
              "      <td>294.0</td>\n",
              "      <td>110.25</td>\n",
              "      <td>7.0</td>\n",
              "      <td>2</td>\n",
              "      <td>0.0</td>\n",
              "      <td>0</td>\n",
              "      <td>155.5</td>\n",
              "    </tr>\n",
              "    <tr>\n",
              "      <th>1</th>\n",
              "      <td>0.98</td>\n",
              "      <td>514.5</td>\n",
              "      <td>294.0</td>\n",
              "      <td>110.25</td>\n",
              "      <td>7.0</td>\n",
              "      <td>3</td>\n",
              "      <td>0.0</td>\n",
              "      <td>0</td>\n",
              "      <td>155.5</td>\n",
              "    </tr>\n",
              "    <tr>\n",
              "      <th>2</th>\n",
              "      <td>0.98</td>\n",
              "      <td>514.5</td>\n",
              "      <td>294.0</td>\n",
              "      <td>110.25</td>\n",
              "      <td>7.0</td>\n",
              "      <td>4</td>\n",
              "      <td>0.0</td>\n",
              "      <td>0</td>\n",
              "      <td>155.5</td>\n",
              "    </tr>\n",
              "    <tr>\n",
              "      <th>3</th>\n",
              "      <td>0.98</td>\n",
              "      <td>514.5</td>\n",
              "      <td>294.0</td>\n",
              "      <td>110.25</td>\n",
              "      <td>7.0</td>\n",
              "      <td>5</td>\n",
              "      <td>0.0</td>\n",
              "      <td>0</td>\n",
              "      <td>155.5</td>\n",
              "    </tr>\n",
              "    <tr>\n",
              "      <th>4</th>\n",
              "      <td>0.90</td>\n",
              "      <td>563.5</td>\n",
              "      <td>318.5</td>\n",
              "      <td>122.50</td>\n",
              "      <td>7.0</td>\n",
              "      <td>2</td>\n",
              "      <td>0.0</td>\n",
              "      <td>0</td>\n",
              "      <td>208.4</td>\n",
              "    </tr>\n",
              "  </tbody>\n",
              "</table>\n",
              "</div>"
            ],
            "text/plain": [
              "   compactness  surface_area  ...  glazing_area_distribution  electricity\n",
              "0         0.98         514.5  ...                          0        155.5\n",
              "1         0.98         514.5  ...                          0        155.5\n",
              "2         0.98         514.5  ...                          0        155.5\n",
              "3         0.98         514.5  ...                          0        155.5\n",
              "4         0.90         563.5  ...                          0        208.4\n",
              "\n",
              "[5 rows x 9 columns]"
            ]
          },
          "metadata": {},
          "execution_count": 4
        }
      ]
    },
    {
      "cell_type": "markdown",
      "metadata": {
        "id": "F3fzQDmyC375"
      },
      "source": [
        "* 산점도(surface_area vs. electricity)"
      ]
    },
    {
      "cell_type": "code",
      "metadata": {
        "id": "j6szR1Hn8J-G",
        "colab": {
          "base_uri": "https://localhost:8080/",
          "height": 280
        },
        "outputId": "77211be0-99f2-4fdd-c6a2-41706aa6557d"
      },
      "source": [
        "sns.scatterplot(Elec['surface_area'], Elec['electricity'])\n",
        "plt.show()"
      ],
      "execution_count": null,
      "outputs": [
        {
          "output_type": "display_data",
          "data": {
            "image/png": "[encoded data removed]",
            "text/plain": [
              "<Figure size 432x288 with 1 Axes>"
            ]
          },
          "metadata": {
            "needs_background": "light"
          }
        }
      ]
    },
    {
      "cell_type": "markdown",
      "metadata": {
        "id": "kJ8RYj2NA5no"
      },
      "source": [
        "> ## 1) 1차 모델 시각화"
      ]
    },
    {
      "cell_type": "code",
      "metadata": {
        "id": "igoaeS4T98-H",
        "colab": {
          "base_uri": "https://localhost:8080/",
          "height": 280
        },
        "outputId": "f1251fd8-bd12-4677-a29c-3bb9f4431115"
      },
      "source": [
        "sns.regplot(x = 'surface_area', y = 'electricity', data = Elec,\n",
        "            line_kws = {'color':'red'},\n",
        "            scatter_kws = {'edgecolor' : 'white'})\n",
        "plt.xlim(505, 820)\n",
        "plt.show()"
      ],
      "execution_count": null,
      "outputs": [
        {
          "output_type": "display_data",
          "data": {
            "image/png": "[encoded data removed]",
            "text/plain": [
              "<Figure size 432x288 with 1 Axes>"
            ]
          },
          "metadata": {
            "needs_background": "light"
          }
        }
      ]
    },
    {
      "cell_type": "markdown",
      "metadata": {
        "id": "WpYGH998A-iy"
      },
      "source": [
        "> ## 2) 2차 모델 시각화"
      ]
    },
    {
      "cell_type": "code",
      "metadata": {
        "id": "td0YCK1E-LCB",
        "colab": {
          "base_uri": "https://localhost:8080/",
          "height": 280
        },
        "outputId": "08facaa0-b71a-4b22-a394-3ff7878ca17d"
      },
      "source": [
        "sns.regplot(x = 'surface_area', y = 'electricity', data = Elec,\n",
        "            line_kws = {'color':'blue'},\n",
        "            scatter_kws = {'edgecolor' : 'white'},\n",
        "            order = 2)\n",
        "plt.xlim(505, 820)\n",
        "plt.show()"
      ],
      "execution_count": null,
      "outputs": [
        {
          "output_type": "display_data",
          "data": {
            "image/png": "[encoded data removed]",
            "text/plain": [
              "<Figure size 432x288 with 1 Axes>"
            ]
          },
          "metadata": {
            "needs_background": "light"
          }
        }
      ]
    },
    {
      "cell_type": "markdown",
      "metadata": {
        "id": "zOVNpTPZBBO4"
      },
      "source": [
        "> ## 3) 5차 모델 시각화"
      ]
    },
    {
      "cell_type": "code",
      "metadata": {
        "id": "XdeA8qvF-cI5",
        "colab": {
          "base_uri": "https://localhost:8080/",
          "height": 280
        },
        "outputId": "a6f70699-e7c5-4394-ab40-d32c5d85f989"
      },
      "source": [
        "sns.regplot(x = 'surface_area', y = 'electricity', data = Elec,\n",
        "            line_kws = {'color':'green'},\n",
        "            scatter_kws = {'edgecolor' : 'white'},\n",
        "            order = 5)\n",
        "plt.xlim(505, 820)\n",
        "plt.show()"
      ],
      "execution_count": null,
      "outputs": [
        {
          "output_type": "display_data",
          "data": {
            "image/png": "[encoded data removed]",
            "text/plain": [
              "<Figure size 432x288 with 1 Axes>"
            ]
          },
          "metadata": {
            "needs_background": "light"
          }
        }
      ]
    },
    {
      "cell_type": "markdown",
      "metadata": {
        "id": "mFS4hYVpBEdg"
      },
      "source": [
        "> ## 4) 9차 모델 시각화"
      ]
    },
    {
      "cell_type": "code",
      "metadata": {
        "id": "8CgCMOSo-mDZ",
        "colab": {
          "base_uri": "https://localhost:8080/",
          "height": 284
        },
        "outputId": "2850861a-8469-49c3-8190-c7b029820aea"
      },
      "source": [
        "sns.regplot(x = 'surface_area', y = 'electricity', data = Elec,\n",
        "            line_kws = {'color':'orange'},\n",
        "            scatter_kws = {'edgecolor':'white'},\n",
        "            order = 9)\n",
        "plt.xlim(505, 820)\n",
        "plt.ylim(50, 450)\n",
        "plt.show()"
      ],
      "execution_count": null,
      "outputs": [
        {
          "output_type": "display_data",
          "data": {
            "image/png": "[encoded data removed]",
            "text/plain": [
              "<Figure size 432x288 with 1 Axes>"
            ]
          },
          "metadata": {
            "needs_background": "light"
          }
        }
      ]
    },
    {
      "cell_type": "markdown",
      "metadata": {
        "id": "xFt9_UwbBHBH"
      },
      "source": [
        "> ## 5) 4개 모델 비교 시각화"
      ]
    },
    {
      "cell_type": "code",
      "metadata": {
        "id": "MfxsY0_Z_LUA",
        "colab": {
          "base_uri": "https://localhost:8080/",
          "height": 293
        },
        "outputId": "7c35f2ad-b994-4657-cee1-1205f86b75a2"
      },
      "source": [
        "sns.regplot(x = 'surface_area', y = 'electricity', \n",
        "            data = Elec, \n",
        "            line_kws = {'color':'red'})\n",
        "sns.regplot(x = 'surface_area', y = 'electricity', \n",
        "            data = Elec, \n",
        "            line_kws = {'color':'blue'}, order = 2)\n",
        "sns.regplot(x = 'surface_area', y = 'electricity', \n",
        "            data = Elec, \n",
        "            line_kws = {'color':'green'}, order = 5)\n",
        "sns.regplot(x = 'surface_area', y = 'electricity', \n",
        "            data = Elec, \n",
        "            line_kws = {'color':'orange'}, order = 9,\n",
        "            scatter_kws = {'color':'gray', 'edgecolor':'white'})\n",
        "plt.xlim(505, 820)\n",
        "plt.ylim(50, 450)\n",
        "plt.xticks(rotation = 35)\n",
        "plt.yticks(rotation = 90)\n",
        "plt.show()"
      ],
      "execution_count": null,
      "outputs": [
        {
          "output_type": "display_data",
          "data": {
            "image/png": "[encoded data removed]",
            "text/plain": [
              "<Figure size 432x288 with 1 Axes>"
            ]
          },
          "metadata": {
            "needs_background": "light"
          }
        }
      ]
    },
    {
      "cell_type": "markdown",
      "metadata": {
        "id": "SH8IY3VrrcDE"
      },
      "source": [
        "# II. Training Error\n",
        "* import Packages"
      ]
    },
    {
      "cell_type": "code",
      "metadata": {
        "id": "w9DTQpeora6S"
      },
      "source": [
        "import pandas as pd\n",
        "import numpy as np\n",
        "import matplotlib.pyplot as plt\n",
        "import seaborn as sns "
      ],
      "execution_count": null,
      "outputs": []
    },
    {
      "cell_type": "markdown",
      "metadata": {
        "id": "DsDifuY5y6Qy"
      },
      "source": [
        "* pandas DataFrame\n",
        " - 'Electric.csv' From github"
      ]
    },
    {
      "cell_type": "code",
      "metadata": {
        "id": "vsFPHgaRsD0t",
        "colab": {
          "base_uri": "https://localhost:8080/"
        },
        "outputId": "a34fb040-f85c-4167-a773-16b1b24fe0de"
      },
      "source": [
        "url = 'https://raw.githubusercontent.com/rusita-ai/pyData/master/Electric.csv'\n",
        "\n",
        "Elec = pd.read_csv(url)\n",
        "\n",
        "Elec.info()"
      ],
      "execution_count": null,
      "outputs": [
        {
          "output_type": "stream",
          "name": "stdout",
          "text": [
            "<class 'pandas.core.frame.DataFrame'>\n",
            "RangeIndex: 768 entries, 0 to 767\n",
            "Data columns (total 9 columns):\n",
            " #   Column                     Non-Null Count  Dtype  \n",
            "---  ------                     --------------  -----  \n",
            " 0   compactness                768 non-null    float64\n",
            " 1   surface_area               768 non-null    float64\n",
            " 2   wall_area                  768 non-null    float64\n",
            " 3   roof_area                  768 non-null    float64\n",
            " 4   height                     768 non-null    float64\n",
            " 5   orientation                768 non-null    int64  \n",
            " 6   glazing_area               768 non-null    float64\n",
            " 7   glazing_area_distribution  768 non-null    int64  \n",
            " 8   electricity                768 non-null    float64\n",
            "dtypes: float64(7), int64(2)\n",
            "memory usage: 54.1 KB\n"
          ]
        }
      ]
    },
    {
      "cell_type": "markdown",
      "metadata": {
        "id": "1rbLYlVEthUP"
      },
      "source": [
        "> ## 1) 1차 모델 Training Error"
      ]
    },
    {
      "cell_type": "markdown",
      "metadata": {
        "id": "stzSlx-LUW1F"
      },
      "source": [
        "* X_train and y_train"
      ]
    },
    {
      "cell_type": "code",
      "metadata": {
        "id": "HPAoRjxAUcAH",
        "colab": {
          "base_uri": "https://localhost:8080/"
        },
        "outputId": "e691f5ee-adc1-48ea-cd43-24348632582f"
      },
      "source": [
        "X_train = Elec[['surface_area']]\n",
        "y_train = Elec['electricity']\n",
        "\n",
        "X_train.shape, y_train.shape"
      ],
      "execution_count": null,
      "outputs": [
        {
          "output_type": "execute_result",
          "data": {
            "text/plain": [
              "((768, 1), (768,))"
            ]
          },
          "metadata": {},
          "execution_count": 16
        }
      ]
    },
    {
      "cell_type": "markdown",
      "metadata": {
        "id": "sUwtIJTp7pEi"
      },
      "source": [
        "* 모델 생성"
      ]
    },
    {
      "cell_type": "code",
      "metadata": {
        "id": "zE629GWvRyoO",
        "colab": {
          "base_uri": "https://localhost:8080/"
        },
        "outputId": "f33c6c30-697b-46ca-8639-a7fbbdcbfef6"
      },
      "source": [
        "from sklearn.linear_model import LinearRegression\n",
        "\n",
        "Model_1 = LinearRegression()\n",
        "Model_1.fit(X_train, y_train)"
      ],
      "execution_count": null,
      "outputs": [
        {
          "output_type": "execute_result",
          "data": {
            "text/plain": [
              "LinearRegression(copy_X=True, fit_intercept=True, n_jobs=None, normalize=False)"
            ]
          },
          "metadata": {},
          "execution_count": 17
        }
      ]
    },
    {
      "cell_type": "markdown",
      "metadata": {
        "id": "ZJRQ9Fge4fjJ"
      },
      "source": [
        "* 모델 정보(학습결과) 확인"
      ]
    },
    {
      "cell_type": "code",
      "metadata": {
        "id": "714-3Ez4s4GJ",
        "colab": {
          "base_uri": "https://localhost:8080/"
        },
        "outputId": "bcd4092c-ed28-4a47-9c64-5daa29930120"
      },
      "source": [
        "print(Model_1.coef_)\n",
        "print(Model_1.intercept_)"
      ],
      "execution_count": null,
      "outputs": [
        {
          "output_type": "stream",
          "name": "stdout",
          "text": [
            "[-0.75387157]\n",
            "729.4538243006992\n"
          ]
        }
      ]
    },
    {
      "cell_type": "markdown",
      "metadata": {
        "id": "jeDCvn9J42QQ"
      },
      "source": [
        "* y_hat(예측값) 생성"
      ]
    },
    {
      "cell_type": "code",
      "metadata": {
        "id": "Gr3hfkp1tsi6",
        "colab": {
          "base_uri": "https://localhost:8080/"
        },
        "outputId": "b10a5c4f-4447-49af-bbbd-1e5c3c4019c5"
      },
      "source": [
        "y_hat_1 = Model_1.predict(X_train)\n",
        "\n",
        "len(y_hat_1)"
      ],
      "execution_count": null,
      "outputs": [
        {
          "output_type": "execute_result",
          "data": {
            "text/plain": [
              "768"
            ]
          },
          "metadata": {},
          "execution_count": 19
        }
      ]
    },
    {
      "cell_type": "markdown",
      "metadata": {
        "id": "obRVc_Zm5Iyk"
      },
      "source": [
        "* MSE(Mean Squared Error) 계산"
      ]
    },
    {
      "cell_type": "code",
      "metadata": {
        "id": "9Kroqv2Pt7CD",
        "colab": {
          "base_uri": "https://localhost:8080/"
        },
        "outputId": "d9869cbc-b90b-48c0-d8dc-e655b4e3287c"
      },
      "source": [
        "TR_Err_1 = np.mean((y_train - y_hat_1) ** 2)\n",
        "TR_Err_1"
      ],
      "execution_count": null,
      "outputs": [
        {
          "output_type": "execute_result",
          "data": {
            "text/plain": [
              "5763.983779426347"
            ]
          },
          "metadata": {},
          "execution_count": 20
        }
      ]
    },
    {
      "cell_type": "markdown",
      "metadata": {
        "id": "2zejd1I2u7rM"
      },
      "source": [
        "> ## 2) 5차 모델 Training Error\n",
        "\n",
        "* X 다항차수 변환\n",
        " - (768, 1) to (768, 5)"
      ]
    },
    {
      "cell_type": "code",
      "metadata": {
        "id": "lrrVT13WuCcz"
      },
      "source": [
        "from sklearn.preprocessing import PolynomialFeatures\n",
        "\n",
        "poly = PolynomialFeatures(degree = 5, include_bias = False)\n",
        "PX_5 = poly.fit_transform(X_train)"
      ],
      "execution_count": null,
      "outputs": []
    },
    {
      "cell_type": "code",
      "metadata": {
        "id": "dLXUAU8K4RtG",
        "colab": {
          "base_uri": "https://localhost:8080/"
        },
        "outputId": "9bee9f38-a021-4921-eb05-0077605d0870"
      },
      "source": [
        "PX_5"
      ],
      "execution_count": null,
      "outputs": [
        {
          "output_type": "execute_result",
          "data": {
            "text/plain": [
              "array([[5.14500000e+02, 2.64710250e+05, 1.36193424e+08, 7.00715165e+10,\n",
              "        3.60517952e+13],\n",
              "       [5.14500000e+02, 2.64710250e+05, 1.36193424e+08, 7.00715165e+10,\n",
              "        3.60517952e+13],\n",
              "       [5.14500000e+02, 2.64710250e+05, 1.36193424e+08, 7.00715165e+10,\n",
              "        3.60517952e+13],\n",
              "       ...,\n",
              "       [8.08500000e+02, 6.53672250e+05, 5.28494014e+08, 4.27287410e+11,\n",
              "        3.45461871e+14],\n",
              "       [8.08500000e+02, 6.53672250e+05, 5.28494014e+08, 4.27287410e+11,\n",
              "        3.45461871e+14],\n",
              "       [8.08500000e+02, 6.53672250e+05, 5.28494014e+08, 4.27287410e+11,\n",
              "        3.45461871e+14]])"
            ]
          },
          "metadata": {},
          "execution_count": 22
        }
      ]
    },
    {
      "cell_type": "code",
      "metadata": {
        "id": "iaOPRtuf5C3_",
        "colab": {
          "base_uri": "https://localhost:8080/"
        },
        "outputId": "37bdb8f7-658e-4618-c7ec-86584e467bcf"
      },
      "source": [
        "X_train.shape, PX_5.shape"
      ],
      "execution_count": null,
      "outputs": [
        {
          "output_type": "execute_result",
          "data": {
            "text/plain": [
              "((768, 1), (768, 5))"
            ]
          },
          "metadata": {},
          "execution_count": 23
        }
      ]
    },
    {
      "cell_type": "markdown",
      "metadata": {
        "id": "SI7q5SSi7_0m"
      },
      "source": [
        "* 5차 모델 생성"
      ]
    },
    {
      "cell_type": "code",
      "metadata": {
        "id": "DIf0vGGoWr-E",
        "colab": {
          "base_uri": "https://localhost:8080/"
        },
        "outputId": "5531a823-2883-410e-dbdb-acef0ca2227a"
      },
      "source": [
        "from sklearn.linear_model import LinearRegression\n",
        "\n",
        "Model_5 = LinearRegression()\n",
        "Model_5.fit(PX_5, y_train)"
      ],
      "execution_count": null,
      "outputs": [
        {
          "output_type": "execute_result",
          "data": {
            "text/plain": [
              "LinearRegression(copy_X=True, fit_intercept=True, n_jobs=None, normalize=False)"
            ]
          },
          "metadata": {},
          "execution_count": 24
        }
      ]
    },
    {
      "cell_type": "markdown",
      "metadata": {
        "id": "kJQMaIAW8DRW"
      },
      "source": [
        "* 모델 정보(학습결과) 확인"
      ]
    },
    {
      "cell_type": "code",
      "metadata": {
        "id": "qM_8YWy2vsRX",
        "colab": {
          "base_uri": "https://localhost:8080/"
        },
        "outputId": "9964712b-76ee-4d72-f3bf-b1a96a57eba3"
      },
      "source": [
        "np.set_printoptions(suppress = True, precision = 10)\n",
        "\n",
        "print(Model_5.coef_)\n",
        "print(Model_5.intercept_)"
      ],
      "execution_count": null,
      "outputs": [
        {
          "output_type": "stream",
          "name": "stdout",
          "text": [
            "[-0.0003155148 -0.1029296835  0.0003787616 -0.0000005032  0.0000000002]\n",
            "2906.221625380881\n"
          ]
        }
      ]
    },
    {
      "cell_type": "markdown",
      "metadata": {
        "id": "aHBLWqGM8HST"
      },
      "source": [
        "* y_hat(예측값) 생성"
      ]
    },
    {
      "cell_type": "code",
      "metadata": {
        "id": "10mBfjE-vwd3",
        "colab": {
          "base_uri": "https://localhost:8080/"
        },
        "outputId": "d8536fc8-c66e-4382-928b-fbafd8ea2459"
      },
      "source": [
        "PX_5_pred = poly.fit_transform(X_train)\n",
        "\n",
        "y_hat_5 = Model_5.predict(PX_5_pred)\n",
        "\n",
        "y_hat_5.shape"
      ],
      "execution_count": null,
      "outputs": [
        {
          "output_type": "execute_result",
          "data": {
            "text/plain": [
              "(768,)"
            ]
          },
          "metadata": {},
          "execution_count": 26
        }
      ]
    },
    {
      "cell_type": "markdown",
      "metadata": {
        "id": "70FA9J6I8J6N"
      },
      "source": [
        "* MSE(Mean Squared Error) 계산"
      ]
    },
    {
      "cell_type": "code",
      "metadata": {
        "id": "nsMm0k9EwCnf",
        "colab": {
          "base_uri": "https://localhost:8080/"
        },
        "outputId": "437a517a-0440-496b-a144-7d80ba6ab6bc"
      },
      "source": [
        "TR_Err_5 = np.mean((y_train - y_hat_5) ** 2)\n",
        "TR_Err_5"
      ],
      "execution_count": null,
      "outputs": [
        {
          "output_type": "execute_result",
          "data": {
            "text/plain": [
              "4177.726328606075"
            ]
          },
          "metadata": {},
          "execution_count": 27
        }
      ]
    },
    {
      "cell_type": "markdown",
      "metadata": {
        "id": "GTzBQPRlwvPS"
      },
      "source": [
        "> ## 3) 9차 모델 Training Error\n",
        "\n",
        "* X 다항차수 변환\n",
        " - (768, 1) to (768, 9)"
      ]
    },
    {
      "cell_type": "code",
      "metadata": {
        "id": "CIScGdXVw1o2"
      },
      "source": [
        "from sklearn.preprocessing import PolynomialFeatures\n",
        "\n",
        "poly = PolynomialFeatures(degree = 9, include_bias = False)\n",
        "PX_9 = poly.fit_transform(X_train)"
      ],
      "execution_count": null,
      "outputs": []
    },
    {
      "cell_type": "code",
      "metadata": {
        "id": "bR5LnHES5lwZ",
        "colab": {
          "base_uri": "https://localhost:8080/"
        },
        "outputId": "bab026a0-13f7-40c6-c227-17157b893ecb"
      },
      "source": [
        "X_train.shape, PX_9.shape"
      ],
      "execution_count": null,
      "outputs": [
        {
          "output_type": "execute_result",
          "data": {
            "text/plain": [
              "((768, 1), (768, 9))"
            ]
          },
          "metadata": {},
          "execution_count": 29
        }
      ]
    },
    {
      "cell_type": "markdown",
      "metadata": {
        "id": "kVCozYuE8SGD"
      },
      "source": [
        "* 모델 생성"
      ]
    },
    {
      "cell_type": "code",
      "metadata": {
        "id": "t70whAC-xEE7",
        "colab": {
          "base_uri": "https://localhost:8080/"
        },
        "outputId": "64dc76e5-2f2d-475d-f7a4-0d125cf7ce4a"
      },
      "source": [
        "from sklearn.linear_model import LinearRegression\n",
        "\n",
        "Model_9 = LinearRegression()\n",
        "Model_9.fit(PX_9, y_train)"
      ],
      "execution_count": null,
      "outputs": [
        {
          "output_type": "execute_result",
          "data": {
            "text/plain": [
              "LinearRegression(copy_X=True, fit_intercept=True, n_jobs=None, normalize=False)"
            ]
          },
          "metadata": {},
          "execution_count": 30
        }
      ]
    },
    {
      "cell_type": "markdown",
      "metadata": {
        "id": "2hwsUpYI8VIZ"
      },
      "source": [
        "* 모델 정보(학습결과) 확인"
      ]
    },
    {
      "cell_type": "code",
      "metadata": {
        "id": "z-mGhFLuxKmX",
        "colab": {
          "base_uri": "https://localhost:8080/"
        },
        "outputId": "370793e1-9047-4de6-a01b-79fab709a4f5"
      },
      "source": [
        "print(Model_9.coef_)\n",
        "print(Model_9.intercept_)"
      ],
      "execution_count": null,
      "outputs": [
        {
          "output_type": "stream",
          "name": "stdout",
          "text": [
            "[ 0.  0.  0.  0.  0.  0. -0.  0. -0.]\n",
            "-440.08258373871365\n"
          ]
        }
      ]
    },
    {
      "cell_type": "markdown",
      "metadata": {
        "id": "gQxmNJas8YX4"
      },
      "source": [
        "* y_hat(예측값) 생성"
      ]
    },
    {
      "cell_type": "code",
      "metadata": {
        "id": "BfI4gKrWxNYg",
        "colab": {
          "base_uri": "https://localhost:8080/"
        },
        "outputId": "4e8fb6d6-c854-401e-9147-a88c4686cb95"
      },
      "source": [
        "PX_9_pred = poly.fit_transform(X_train)\n",
        "\n",
        "y_hat_9 = Model_9.predict(PX_9_pred)\n",
        "\n",
        "y_hat_9.shape"
      ],
      "execution_count": null,
      "outputs": [
        {
          "output_type": "execute_result",
          "data": {
            "text/plain": [
              "(768,)"
            ]
          },
          "metadata": {},
          "execution_count": 32
        }
      ]
    },
    {
      "cell_type": "markdown",
      "metadata": {
        "id": "hS00kqky8avR"
      },
      "source": [
        "* MSE(Mean Squared Error) 계산"
      ]
    },
    {
      "cell_type": "code",
      "metadata": {
        "id": "f6juRnbixUR-",
        "colab": {
          "base_uri": "https://localhost:8080/"
        },
        "outputId": "cf26f021-3417-42b9-a6b9-65a9773d4520"
      },
      "source": [
        "TR_Err_9 = np.mean((y_train - y_hat_9) ** 2)\n",
        "TR_Err_9"
      ],
      "execution_count": null,
      "outputs": [
        {
          "output_type": "execute_result",
          "data": {
            "text/plain": [
              "4086.7199908150374"
            ]
          },
          "metadata": {},
          "execution_count": 33
        }
      ]
    },
    {
      "cell_type": "markdown",
      "metadata": {
        "id": "82jcD2nD7U_H"
      },
      "source": [
        "> ## 4) 3개 모델 Training Error 비교"
      ]
    },
    {
      "cell_type": "code",
      "metadata": {
        "id": "4uWS5D3K7KUH",
        "colab": {
          "base_uri": "https://localhost:8080/"
        },
        "outputId": "1f1245ea-6ec9-42bf-e7c3-4f0fc559eacc"
      },
      "source": [
        "print('1차 모델 : ', TR_Err_1)\n",
        "print('5차 모델 : ', TR_Err_5)\n",
        "print('9차 모델 : ', TR_Err_9)"
      ],
      "execution_count": null,
      "outputs": [
        {
          "output_type": "stream",
          "name": "stdout",
          "text": [
            "1차 모델 :  5763.983779426347\n",
            "5차 모델 :  4177.726328606075\n",
            "9차 모델 :  4086.7199908150374\n"
          ]
        }
      ]
    },
    {
      "cell_type": "markdown",
      "metadata": {
        "id": "9VeowcVbbbem"
      },
      "source": [
        "> ## 5) 잔차(Residual) 시각화\n",
        "\n",
        "* 1차 모델"
      ]
    },
    {
      "cell_type": "code",
      "metadata": {
        "id": "MKbPBK30ZkaB",
        "colab": {
          "base_uri": "https://localhost:8080/",
          "height": 284
        },
        "outputId": "c19a4840-e3c6-4f8e-f126-2c18cdf1667b"
      },
      "source": [
        "sns.residplot(x = 'surface_area', \n",
        "              y = 'electricity', \n",
        "              data = Elec,\n",
        "              order = 1, \n",
        "              scatter_kws={'edgecolor':'white'})\n",
        "plt.ylim(-300, 300)\n",
        "plt.show()"
      ],
      "execution_count": null,
      "outputs": [
        {
          "output_type": "display_data",
          "data": {
            "image/png": "[encoded data removed]",
            "text/plain": [
              "<Figure size 432x288 with 1 Axes>"
            ]
          },
          "metadata": {
            "needs_background": "light"
          }
        }
      ]
    },
    {
      "cell_type": "markdown",
      "metadata": {
        "id": "QXt4FvJZblGf"
      },
      "source": [
        "* 5차 모델"
      ]
    },
    {
      "cell_type": "code",
      "metadata": {
        "id": "D9_kYy3paFZ8",
        "colab": {
          "base_uri": "https://localhost:8080/",
          "height": 284
        },
        "outputId": "c7db8362-2bcf-468b-8fa4-2da743b2ad20"
      },
      "source": [
        "sns.residplot(x = 'surface_area', \n",
        "              y = 'electricity', \n",
        "              data = Elec,\n",
        "              order = 5,\n",
        "              scatter_kws={'edgecolor':'white'})\n",
        "plt.ylim(-300, 300)\n",
        "plt.show()"
      ],
      "execution_count": null,
      "outputs": [
        {
          "output_type": "display_data",
          "data": {
            "image/png": "[encoded data removed]",
            "text/plain": [
              "<Figure size 432x288 with 1 Axes>"
            ]
          },
          "metadata": {
            "needs_background": "light"
          }
        }
      ]
    },
    {
      "cell_type": "markdown",
      "metadata": {
        "id": "u4u-ZRwubnU5"
      },
      "source": [
        "* 9차 모델"
      ]
    },
    {
      "cell_type": "code",
      "metadata": {
        "id": "Vlk9qfJgahWG",
        "colab": {
          "base_uri": "https://localhost:8080/",
          "height": 284
        },
        "outputId": "9f888bce-852b-4a76-924b-57b9bd7a04df"
      },
      "source": [
        "sns.residplot(x = 'surface_area', \n",
        "              y = 'electricity', \n",
        "              data = Elec,\n",
        "              order = 9,\n",
        "              scatter_kws={'edgecolor':'white'})\n",
        "plt.ylim(-300, 300)\n",
        "plt.show()"
      ],
      "execution_count": null,
      "outputs": [
        {
          "output_type": "display_data",
          "data": {
            "image/png": "[encoded data removed]",
            "text/plain": [
              "<Figure size 432x288 with 1 Axes>"
            ]
          },
          "metadata": {
            "needs_background": "light"
          }
        }
      ]
    },
    {
      "cell_type": "markdown",
      "metadata": {
        "id": "icAwm4RJx8mr"
      },
      "source": [
        "# III. Testing Error\n",
        "* import Packages"
      ]
    },
    {
      "cell_type": "code",
      "metadata": {
        "id": "gamtF6KHzFDA"
      },
      "source": [
        "import pandas as pd\n",
        "import matplotlib.pyplot as plt\n",
        "import seaborn as sns "
      ],
      "execution_count": null,
      "outputs": []
    },
    {
      "cell_type": "markdown",
      "metadata": {
        "id": "5aqFSinKzODe"
      },
      "source": [
        "* pandas DataFrame\n",
        " - 'Electric.csv' From github"
      ]
    },
    {
      "cell_type": "code",
      "metadata": {
        "id": "M-ba67p0zGvN",
        "colab": {
          "base_uri": "https://localhost:8080/"
        },
        "outputId": "5d186ead-92fa-4f48-9cc4-ad74a2b92fdb"
      },
      "source": [
        "url = 'https://raw.githubusercontent.com/rusita-ai/pyData/master/Electric.csv'\n",
        "\n",
        "Elec = pd.read_csv(url)\n",
        "\n",
        "Elec.shape"
      ],
      "execution_count": null,
      "outputs": [
        {
          "output_type": "execute_result",
          "data": {
            "text/plain": [
              "(768, 9)"
            ]
          },
          "metadata": {},
          "execution_count": 39
        }
      ]
    },
    {
      "cell_type": "markdown",
      "metadata": {
        "id": "ftblAl99zSYE"
      },
      "source": [
        "> ## Train_Data vs. Test_Data"
      ]
    },
    {
      "cell_type": "markdown",
      "metadata": {
        "id": "fzeqK_248443"
      },
      "source": [
        "### (1) DataFrame Split\n",
        "* 8:2 Split(614:154)\n",
        "* 80% Train_DF & 20% Test_DF"
      ]
    },
    {
      "cell_type": "code",
      "metadata": {
        "id": "KM9SDD37zkwC"
      },
      "source": [
        "from sklearn.model_selection import train_test_split\n",
        "\n",
        "TR_Elec, TE_Elec = train_test_split(Elec, test_size = 0.2, \n",
        "                                    random_state = 2045)"
      ],
      "execution_count": null,
      "outputs": []
    },
    {
      "cell_type": "code",
      "metadata": {
        "id": "NUE-gofNNGMt",
        "colab": {
          "base_uri": "https://localhost:8080/"
        },
        "outputId": "7ffad1e2-52e2-43fa-fd70-e85cc46fde2c"
      },
      "source": [
        "TR_Elec.shape, TE_Elec.shape"
      ],
      "execution_count": null,
      "outputs": [
        {
          "output_type": "execute_result",
          "data": {
            "text/plain": [
              "((614, 9), (154, 9))"
            ]
          },
          "metadata": {},
          "execution_count": 58
        }
      ]
    },
    {
      "cell_type": "markdown",
      "metadata": {
        "id": "-ugPjMIW8_7Q"
      },
      "source": [
        "* 80% TR_Elec DataFrame"
      ]
    },
    {
      "cell_type": "code",
      "metadata": {
        "id": "n6jXKKuo0GW5",
        "colab": {
          "base_uri": "https://localhost:8080/",
          "height": 224
        },
        "outputId": "ca343814-2236-4aa8-85bd-e74ae4375620"
      },
      "source": [
        "TR_Elec.head()"
      ],
      "execution_count": null,
      "outputs": [
        {
          "output_type": "execute_result",
          "data": {
            "text/html": [
              "<div>\n",
              "<style scoped>\n",
              "    .dataframe tbody tr th:only-of-type {\n",
              "        vertical-align: middle;\n",
              "    }\n",
              "\n",
              "    .dataframe tbody tr th {\n",
              "        vertical-align: top;\n",
              "    }\n",
              "\n",
              "    .dataframe thead th {\n",
              "        text-align: right;\n",
              "    }\n",
              "</style>\n",
              "<table border=\"1\" class=\"dataframe\">\n",
              "  <thead>\n",
              "    <tr style=\"text-align: right;\">\n",
              "      <th></th>\n",
              "      <th>compactness</th>\n",
              "      <th>surface_area</th>\n",
              "      <th>wall_area</th>\n",
              "      <th>roof_area</th>\n",
              "      <th>height</th>\n",
              "      <th>orientation</th>\n",
              "      <th>glazing_area</th>\n",
              "      <th>glazing_area_distribution</th>\n",
              "      <th>electricity</th>\n",
              "    </tr>\n",
              "  </thead>\n",
              "  <tbody>\n",
              "    <tr>\n",
              "      <th>555</th>\n",
              "      <td>0.74</td>\n",
              "      <td>686.0</td>\n",
              "      <td>245.0</td>\n",
              "      <td>220.5</td>\n",
              "      <td>3.5</td>\n",
              "      <td>5</td>\n",
              "      <td>0.40</td>\n",
              "      <td>1</td>\n",
              "      <td>145.5</td>\n",
              "    </tr>\n",
              "    <tr>\n",
              "      <th>355</th>\n",
              "      <td>0.79</td>\n",
              "      <td>637.0</td>\n",
              "      <td>343.0</td>\n",
              "      <td>147.0</td>\n",
              "      <td>7.0</td>\n",
              "      <td>5</td>\n",
              "      <td>0.25</td>\n",
              "      <td>2</td>\n",
              "      <td>389.8</td>\n",
              "    </tr>\n",
              "    <tr>\n",
              "      <th>200</th>\n",
              "      <td>0.86</td>\n",
              "      <td>588.0</td>\n",
              "      <td>294.0</td>\n",
              "      <td>147.0</td>\n",
              "      <td>7.0</td>\n",
              "      <td>2</td>\n",
              "      <td>0.10</td>\n",
              "      <td>4</td>\n",
              "      <td>264.4</td>\n",
              "    </tr>\n",
              "    <tr>\n",
              "      <th>669</th>\n",
              "      <td>0.62</td>\n",
              "      <td>808.5</td>\n",
              "      <td>367.5</td>\n",
              "      <td>220.5</td>\n",
              "      <td>3.5</td>\n",
              "      <td>3</td>\n",
              "      <td>0.40</td>\n",
              "      <td>3</td>\n",
              "      <td>163.5</td>\n",
              "    </tr>\n",
              "    <tr>\n",
              "      <th>561</th>\n",
              "      <td>0.69</td>\n",
              "      <td>735.0</td>\n",
              "      <td>294.0</td>\n",
              "      <td>220.5</td>\n",
              "      <td>3.5</td>\n",
              "      <td>3</td>\n",
              "      <td>0.40</td>\n",
              "      <td>1</td>\n",
              "      <td>147.0</td>\n",
              "    </tr>\n",
              "  </tbody>\n",
              "</table>\n",
              "</div>"
            ],
            "text/plain": [
              "     compactness  surface_area  ...  glazing_area_distribution  electricity\n",
              "555         0.74         686.0  ...                          1        145.5\n",
              "355         0.79         637.0  ...                          2        389.8\n",
              "200         0.86         588.0  ...                          4        264.4\n",
              "669         0.62         808.5  ...                          3        163.5\n",
              "561         0.69         735.0  ...                          1        147.0\n",
              "\n",
              "[5 rows x 9 columns]"
            ]
          },
          "metadata": {},
          "execution_count": 59
        }
      ]
    },
    {
      "cell_type": "markdown",
      "metadata": {
        "id": "rMGdFWFo9Qvp"
      },
      "source": [
        "* 20% TE_Elec DataFrame"
      ]
    },
    {
      "cell_type": "code",
      "metadata": {
        "id": "CDwUJUZA0ZvH",
        "colab": {
          "base_uri": "https://localhost:8080/",
          "height": 224
        },
        "outputId": "5f7126d1-b740-4409-9d11-0fda443c8f79"
      },
      "source": [
        "TE_Elec.head()"
      ],
      "execution_count": null,
      "outputs": [
        {
          "output_type": "execute_result",
          "data": {
            "text/html": [
              "<div>\n",
              "<style scoped>\n",
              "    .dataframe tbody tr th:only-of-type {\n",
              "        vertical-align: middle;\n",
              "    }\n",
              "\n",
              "    .dataframe tbody tr th {\n",
              "        vertical-align: top;\n",
              "    }\n",
              "\n",
              "    .dataframe thead th {\n",
              "        text-align: right;\n",
              "    }\n",
              "</style>\n",
              "<table border=\"1\" class=\"dataframe\">\n",
              "  <thead>\n",
              "    <tr style=\"text-align: right;\">\n",
              "      <th></th>\n",
              "      <th>compactness</th>\n",
              "      <th>surface_area</th>\n",
              "      <th>wall_area</th>\n",
              "      <th>roof_area</th>\n",
              "      <th>height</th>\n",
              "      <th>orientation</th>\n",
              "      <th>glazing_area</th>\n",
              "      <th>glazing_area_distribution</th>\n",
              "      <th>electricity</th>\n",
              "    </tr>\n",
              "  </thead>\n",
              "  <tbody>\n",
              "    <tr>\n",
              "      <th>414</th>\n",
              "      <td>0.71</td>\n",
              "      <td>710.5</td>\n",
              "      <td>269.5</td>\n",
              "      <td>220.50</td>\n",
              "      <td>3.5</td>\n",
              "      <td>4</td>\n",
              "      <td>0.25</td>\n",
              "      <td>3</td>\n",
              "      <td>121.0</td>\n",
              "    </tr>\n",
              "    <tr>\n",
              "      <th>475</th>\n",
              "      <td>0.64</td>\n",
              "      <td>784.0</td>\n",
              "      <td>343.0</td>\n",
              "      <td>220.50</td>\n",
              "      <td>3.5</td>\n",
              "      <td>5</td>\n",
              "      <td>0.25</td>\n",
              "      <td>4</td>\n",
              "      <td>166.2</td>\n",
              "    </tr>\n",
              "    <tr>\n",
              "      <th>511</th>\n",
              "      <td>0.71</td>\n",
              "      <td>710.5</td>\n",
              "      <td>269.5</td>\n",
              "      <td>220.50</td>\n",
              "      <td>3.5</td>\n",
              "      <td>5</td>\n",
              "      <td>0.25</td>\n",
              "      <td>5</td>\n",
              "      <td>122.7</td>\n",
              "    </tr>\n",
              "    <tr>\n",
              "      <th>213</th>\n",
              "      <td>0.76</td>\n",
              "      <td>661.5</td>\n",
              "      <td>416.5</td>\n",
              "      <td>122.50</td>\n",
              "      <td>7.0</td>\n",
              "      <td>3</td>\n",
              "      <td>0.10</td>\n",
              "      <td>4</td>\n",
              "      <td>323.8</td>\n",
              "    </tr>\n",
              "    <tr>\n",
              "      <th>339</th>\n",
              "      <td>0.98</td>\n",
              "      <td>514.5</td>\n",
              "      <td>294.0</td>\n",
              "      <td>110.25</td>\n",
              "      <td>7.0</td>\n",
              "      <td>5</td>\n",
              "      <td>0.25</td>\n",
              "      <td>2</td>\n",
              "      <td>286.0</td>\n",
              "    </tr>\n",
              "  </tbody>\n",
              "</table>\n",
              "</div>"
            ],
            "text/plain": [
              "     compactness  surface_area  ...  glazing_area_distribution  electricity\n",
              "414         0.71         710.5  ...                          3        121.0\n",
              "475         0.64         784.0  ...                          4        166.2\n",
              "511         0.71         710.5  ...                          5        122.7\n",
              "213         0.76         661.5  ...                          4        323.8\n",
              "339         0.98         514.5  ...                          2        286.0\n",
              "\n",
              "[5 rows x 9 columns]"
            ]
          },
          "metadata": {},
          "execution_count": 60
        }
      ]
    },
    {
      "cell_type": "markdown",
      "metadata": {
        "id": "V4sA5av7caj_"
      },
      "source": [
        "### (2) Array Split\n",
        "* X_train, X_test & y_train, y_test"
      ]
    },
    {
      "cell_type": "code",
      "metadata": {
        "id": "wiX_onvQb5KE"
      },
      "source": [
        "from sklearn.model_selection import train_test_split\n",
        "\n",
        "X_train, X_test, y_train, y_test = train_test_split(Elec[['surface_area']], \n",
        "                                                    Elec['electricity'], \n",
        "                                                    test_size = 0.2, \n",
        "                                                    random_state = 2045)"
      ],
      "execution_count": null,
      "outputs": []
    },
    {
      "cell_type": "code",
      "metadata": {
        "id": "h7zLa-7ZcvBT",
        "colab": {
          "base_uri": "https://localhost:8080/"
        },
        "outputId": "43d3e744-0402-4c03-b2d1-3c1278f898dc"
      },
      "source": [
        "X_train.shape, y_train.shape, X_test.shape, y_test.shape "
      ],
      "execution_count": null,
      "outputs": [
        {
          "output_type": "execute_result",
          "data": {
            "text/plain": [
              "((614, 1), (614,), (154, 1), (154,))"
            ]
          },
          "metadata": {},
          "execution_count": 62
        }
      ]
    },
    {
      "cell_type": "markdown",
      "metadata": {
        "id": "oB7cj8eadmNH"
      },
      "source": [
        "* 80% X_train Array"
      ]
    },
    {
      "cell_type": "code",
      "metadata": {
        "id": "vtpc9xNddNkn",
        "colab": {
          "base_uri": "https://localhost:8080/",
          "height": 204
        },
        "outputId": "a67598d2-0aa7-475d-c185-02f3c7c82e3a"
      },
      "source": [
        "X_train.head()"
      ],
      "execution_count": null,
      "outputs": [
        {
          "output_type": "execute_result",
          "data": {
            "text/html": [
              "<div>\n",
              "<style scoped>\n",
              "    .dataframe tbody tr th:only-of-type {\n",
              "        vertical-align: middle;\n",
              "    }\n",
              "\n",
              "    .dataframe tbody tr th {\n",
              "        vertical-align: top;\n",
              "    }\n",
              "\n",
              "    .dataframe thead th {\n",
              "        text-align: right;\n",
              "    }\n",
              "</style>\n",
              "<table border=\"1\" class=\"dataframe\">\n",
              "  <thead>\n",
              "    <tr style=\"text-align: right;\">\n",
              "      <th></th>\n",
              "      <th>surface_area</th>\n",
              "    </tr>\n",
              "  </thead>\n",
              "  <tbody>\n",
              "    <tr>\n",
              "      <th>555</th>\n",
              "      <td>686.0</td>\n",
              "    </tr>\n",
              "    <tr>\n",
              "      <th>355</th>\n",
              "      <td>637.0</td>\n",
              "    </tr>\n",
              "    <tr>\n",
              "      <th>200</th>\n",
              "      <td>588.0</td>\n",
              "    </tr>\n",
              "    <tr>\n",
              "      <th>669</th>\n",
              "      <td>808.5</td>\n",
              "    </tr>\n",
              "    <tr>\n",
              "      <th>561</th>\n",
              "      <td>735.0</td>\n",
              "    </tr>\n",
              "  </tbody>\n",
              "</table>\n",
              "</div>"
            ],
            "text/plain": [
              "     surface_area\n",
              "555         686.0\n",
              "355         637.0\n",
              "200         588.0\n",
              "669         808.5\n",
              "561         735.0"
            ]
          },
          "metadata": {},
          "execution_count": 63
        }
      ]
    },
    {
      "cell_type": "markdown",
      "metadata": {
        "id": "DXSs9GkOdsVO"
      },
      "source": [
        "* 80% y_train Array"
      ]
    },
    {
      "cell_type": "code",
      "metadata": {
        "id": "-_x-C6-PdctF",
        "colab": {
          "base_uri": "https://localhost:8080/"
        },
        "outputId": "b9b2c2d3-896f-43fa-a3bd-100815a8f9da"
      },
      "source": [
        "y_train.head()"
      ],
      "execution_count": null,
      "outputs": [
        {
          "output_type": "execute_result",
          "data": {
            "text/plain": [
              "555    145.5\n",
              "355    389.8\n",
              "200    264.4\n",
              "669    163.5\n",
              "561    147.0\n",
              "Name: electricity, dtype: float64"
            ]
          },
          "metadata": {},
          "execution_count": 64
        }
      ]
    },
    {
      "cell_type": "markdown",
      "metadata": {
        "id": "hHwxwMcBHyAB"
      },
      "source": [
        "### (3) Distribution Visualization\n",
        "* Train Data"
      ]
    },
    {
      "cell_type": "code",
      "metadata": {
        "colab": {
          "base_uri": "https://localhost:8080/",
          "height": 280
        },
        "id": "2Py89NmeH-ID",
        "outputId": "efe67634-239d-49ef-9bf6-75d85861b0b1"
      },
      "source": [
        "sns.scatterplot(TR_Elec['surface_area'], TR_Elec['electricity'])\n",
        "plt.show()"
      ],
      "execution_count": null,
      "outputs": [
        {
          "output_type": "display_data",
          "data": {
            "image/png": "[encoded data removed]",
            "text/plain": [
              "<Figure size 432x288 with 1 Axes>"
            ]
          },
          "metadata": {
            "needs_background": "light"
          }
        }
      ]
    },
    {
      "cell_type": "markdown",
      "metadata": {
        "id": "HOz7SgP7LIRb"
      },
      "source": [
        "* Test Data"
      ]
    },
    {
      "cell_type": "code",
      "metadata": {
        "colab": {
          "base_uri": "https://localhost:8080/",
          "height": 280
        },
        "id": "Cbu__Ov8IsW-",
        "outputId": "d073f8ee-56b5-4ac2-afa1-13de1613665f"
      },
      "source": [
        "sns.scatterplot(TE_Elec['surface_area'], TE_Elec['electricity'])\n",
        "plt.show()"
      ],
      "execution_count": null,
      "outputs": [
        {
          "output_type": "display_data",
          "data": {
            "image/png": "[encoded data removed]",
            "text/plain": [
              "<Figure size 432x288 with 1 Axes>"
            ]
          },
          "metadata": {
            "needs_background": "light"
          }
        }
      ]
    },
    {
      "cell_type": "markdown",
      "metadata": {
        "id": "xTmLtl680h_A"
      },
      "source": [
        "> ## 1) 1차 모델 Testing Error"
      ]
    },
    {
      "cell_type": "markdown",
      "metadata": {
        "id": "LxX77A129jvm"
      },
      "source": [
        "* Train_Data로 모델 생성"
      ]
    },
    {
      "cell_type": "code",
      "metadata": {
        "id": "dbPXqa4m04Rt",
        "colab": {
          "base_uri": "https://localhost:8080/"
        },
        "outputId": "bbd88a79-e26f-4d1b-9508-e2b76159d2d0"
      },
      "source": [
        "from sklearn.linear_model import LinearRegression\n",
        "\n",
        "Model_1 = LinearRegression()\n",
        "Model_1.fit(X_train, y_train)"
      ],
      "execution_count": null,
      "outputs": [
        {
          "output_type": "execute_result",
          "data": {
            "text/plain": [
              "LinearRegression(copy_X=True, fit_intercept=True, n_jobs=None, normalize=False)"
            ]
          },
          "metadata": {},
          "execution_count": 67
        }
      ]
    },
    {
      "cell_type": "markdown",
      "metadata": {
        "id": "a6QmqUZ29s66"
      },
      "source": [
        "* Test_Data로 y_hat(예측값) 생성"
      ]
    },
    {
      "cell_type": "code",
      "metadata": {
        "id": "HczWyVch1ZkT",
        "colab": {
          "base_uri": "https://localhost:8080/"
        },
        "outputId": "b0f36d9f-ddb6-4350-b9f5-f3354e4860e8"
      },
      "source": [
        "y_hat_1 = Model_1.predict(X_test)\n",
        "\n",
        "y_hat_1.shape"
      ],
      "execution_count": null,
      "outputs": [
        {
          "output_type": "execute_result",
          "data": {
            "text/plain": [
              "(154,)"
            ]
          },
          "metadata": {},
          "execution_count": 68
        }
      ]
    },
    {
      "cell_type": "markdown",
      "metadata": {
        "id": "rL05sSmY90_6"
      },
      "source": [
        "* Test_Data로 MSE(Mean Squared Error) 계산"
      ]
    },
    {
      "cell_type": "code",
      "metadata": {
        "id": "2XSrsIVQ1sjx",
        "colab": {
          "base_uri": "https://localhost:8080/"
        },
        "outputId": "90bb9419-8fc1-4480-f916-050cb35683da"
      },
      "source": [
        "from sklearn.metrics import mean_squared_error\n",
        "\n",
        "TE_Err_1 = mean_squared_error(y_test, y_hat_1)\n",
        "TE_Err_1"
      ],
      "execution_count": null,
      "outputs": [
        {
          "output_type": "execute_result",
          "data": {
            "text/plain": [
              "6044.176547629271"
            ]
          },
          "metadata": {},
          "execution_count": 69
        }
      ]
    },
    {
      "cell_type": "markdown",
      "metadata": {
        "id": "zUTttyqJ0sii"
      },
      "source": [
        "> ## 2) 5차 모델 Testing Error"
      ]
    },
    {
      "cell_type": "markdown",
      "metadata": {
        "id": "WgegP62m-ApK"
      },
      "source": [
        "* Train_Data로 모델 생성"
      ]
    },
    {
      "cell_type": "code",
      "metadata": {
        "id": "07QoopoB2ABJ"
      },
      "source": [
        "from sklearn.preprocessing import PolynomialFeatures\n",
        "\n",
        "poly = PolynomialFeatures(degree = 5, include_bias = False)\n",
        "PX_5_TR = poly.fit_transform(X_train)"
      ],
      "execution_count": null,
      "outputs": []
    },
    {
      "cell_type": "code",
      "metadata": {
        "id": "L2gYi_IB2V11",
        "colab": {
          "base_uri": "https://localhost:8080/"
        },
        "outputId": "d3eef6f6-5d4d-45f8-9523-0d96a573cf68"
      },
      "source": [
        "from sklearn.linear_model import LinearRegression\n",
        "\n",
        "Model_5 = LinearRegression()\n",
        "Model_5.fit(PX_5_TR, y_train)"
      ],
      "execution_count": null,
      "outputs": [
        {
          "output_type": "execute_result",
          "data": {
            "text/plain": [
              "LinearRegression(copy_X=True, fit_intercept=True, n_jobs=None, normalize=False)"
            ]
          },
          "metadata": {},
          "execution_count": 71
        }
      ]
    },
    {
      "cell_type": "markdown",
      "metadata": {
        "id": "N8BZiTXL-D7w"
      },
      "source": [
        "* Test_Data로 y_hat(예측값) 생성"
      ]
    },
    {
      "cell_type": "code",
      "metadata": {
        "id": "s0vWzS2x2mIr"
      },
      "source": [
        "PX_5_TE = poly.fit_transform(X_test)\n",
        "\n",
        "y_hat_5 = Model_5.predict(PX_5_TE)"
      ],
      "execution_count": null,
      "outputs": []
    },
    {
      "cell_type": "markdown",
      "metadata": {
        "id": "1ZkU-TZs-GQZ"
      },
      "source": [
        "* Test_Data로 MSE(Mean Squared Error) 계산"
      ]
    },
    {
      "cell_type": "code",
      "metadata": {
        "id": "_hTbryXk2aOR",
        "colab": {
          "base_uri": "https://localhost:8080/"
        },
        "outputId": "cc6edf83-7a1b-42e0-f7de-42f909e036bc"
      },
      "source": [
        "from sklearn.metrics import mean_squared_error\n",
        "\n",
        "TE_Err_5 = mean_squared_error(y_test, y_hat_5)\n",
        "TE_Err_5"
      ],
      "execution_count": null,
      "outputs": [
        {
          "output_type": "execute_result",
          "data": {
            "text/plain": [
              "4330.604566409499"
            ]
          },
          "metadata": {},
          "execution_count": 73
        }
      ]
    },
    {
      "cell_type": "markdown",
      "metadata": {
        "id": "cMNr8jsS0unk"
      },
      "source": [
        "> ## 3) 9차 모델 Testing Error"
      ]
    },
    {
      "cell_type": "markdown",
      "metadata": {
        "id": "kodHOk3T-K0C"
      },
      "source": [
        "* Train_Data로 모델 생성"
      ]
    },
    {
      "cell_type": "code",
      "metadata": {
        "id": "YNnHqIQV3rg0"
      },
      "source": [
        "from sklearn.preprocessing import PolynomialFeatures\n",
        "\n",
        "poly = PolynomialFeatures(degree = 9, include_bias = False)\n",
        "PX_9_TR = poly.fit_transform(X_train)"
      ],
      "execution_count": null,
      "outputs": []
    },
    {
      "cell_type": "code",
      "metadata": {
        "id": "y46Q80OD3umm",
        "colab": {
          "base_uri": "https://localhost:8080/"
        },
        "outputId": "880f915b-d4c3-4c00-b927-69b9139ec523"
      },
      "source": [
        "from sklearn.linear_model import LinearRegression\n",
        "\n",
        "Model_9 = LinearRegression()\n",
        "Model_9.fit(PX_9_TR, y_train)"
      ],
      "execution_count": null,
      "outputs": [
        {
          "output_type": "execute_result",
          "data": {
            "text/plain": [
              "LinearRegression(copy_X=True, fit_intercept=True, n_jobs=None, normalize=False)"
            ]
          },
          "metadata": {},
          "execution_count": 75
        }
      ]
    },
    {
      "cell_type": "markdown",
      "metadata": {
        "id": "uUE_NC1h-N0j"
      },
      "source": [
        "* Test_Data로 y_hat(예측값) 생성"
      ]
    },
    {
      "cell_type": "code",
      "metadata": {
        "id": "cnx2uDy43zUH"
      },
      "source": [
        "PX_9_TE = poly.fit_transform(X_test)\n",
        "\n",
        "y_hat_9 = Model_9.predict(PX_9_TE)"
      ],
      "execution_count": null,
      "outputs": []
    },
    {
      "cell_type": "markdown",
      "metadata": {
        "id": "fOLJqMah-QtF"
      },
      "source": [
        "* Test_Data로 MSE(Mean Squared Error) 계산"
      ]
    },
    {
      "cell_type": "code",
      "metadata": {
        "id": "Q1WX60_Q346t",
        "colab": {
          "base_uri": "https://localhost:8080/"
        },
        "outputId": "fad2e708-d014-47d6-9d45-01b6442b1bb3"
      },
      "source": [
        "from sklearn.metrics import mean_squared_error\n",
        "\n",
        "TE_Err_9 = mean_squared_error(y_test, y_hat_9)\n",
        "TE_Err_9"
      ],
      "execution_count": null,
      "outputs": [
        {
          "output_type": "execute_result",
          "data": {
            "text/plain": [
              "4238.689067137633"
            ]
          },
          "metadata": {},
          "execution_count": 77
        }
      ]
    },
    {
      "cell_type": "markdown",
      "metadata": {
        "id": "Pp77Bjdi9Awz"
      },
      "source": [
        "> ## 4) 3개 모델 Testing Error 비교"
      ]
    },
    {
      "cell_type": "code",
      "metadata": {
        "id": "ZuM-UxKg9SJQ",
        "colab": {
          "base_uri": "https://localhost:8080/"
        },
        "outputId": "dbeb383e-1330-42d1-fa0d-2fa110bf243d"
      },
      "source": [
        "print('1차 모델 : ', TE_Err_1)\n",
        "print('5차 모델 : ', TE_Err_5)\n",
        "print('9차 모델 : ', TE_Err_9)"
      ],
      "execution_count": null,
      "outputs": [
        {
          "output_type": "stream",
          "name": "stdout",
          "text": [
            "1차 모델 :  6044.176547629271\n",
            "5차 모델 :  4330.604566409499\n",
            "9차 모델 :  4238.689067137633\n"
          ]
        }
      ]
    },
    {
      "cell_type": "markdown",
      "metadata": {
        "id": "wfw5Kcsd9584"
      },
      "source": [
        "# IV. Validation Approach\n",
        "* import Packages"
      ]
    },
    {
      "cell_type": "code",
      "metadata": {
        "id": "2kfSLXXC_su6"
      },
      "source": [
        "import pandas as pd"
      ],
      "execution_count": null,
      "outputs": []
    },
    {
      "cell_type": "markdown",
      "metadata": {
        "id": "LSadk-D__6G2"
      },
      "source": [
        "* pandas DataFrame"
      ]
    },
    {
      "cell_type": "code",
      "metadata": {
        "id": "iKnAHvIK_24y"
      },
      "source": [
        "url = 'https://raw.githubusercontent.com/rusita-ai/pyData/master/Electric.csv'\n",
        "\n",
        "Elec = pd.read_csv(url)\n",
        "\n",
        "Elec.info()"
      ],
      "execution_count": null,
      "outputs": []
    },
    {
      "cell_type": "markdown",
      "metadata": {
        "id": "fZCZ8E5DBNoz"
      },
      "source": [
        "> ## Train vs. Validation vs. Test\n",
        "* 6:2:2 Split(462:153:153)"
      ]
    },
    {
      "cell_type": "markdown",
      "metadata": {
        "id": "grQnlsef--Zs"
      },
      "source": [
        "> ## sklearn Package 사용\n",
        "* train_test_split( )"
      ]
    },
    {
      "cell_type": "markdown",
      "metadata": {
        "id": "SBe7FGHizswg"
      },
      "source": [
        "* 20% Test_Data(153)"
      ]
    },
    {
      "cell_type": "code",
      "metadata": {
        "id": "4QMaTBwUAQCb"
      },
      "source": [
        "from sklearn.model_selection import train_test_split\n",
        "\n",
        "X_remain, X_test, y_remain, y_test = train_test_split(Elec[['surface_area']], \n",
        "                                                      Elec['electricity'], \n",
        "                                                      test_size = int(len(Elec) * 0.2),\n",
        "                                                      random_state = 2045)\n",
        "\n",
        "print(X_remain.shape, y_remain.shape)\n",
        "print(X_test.shape, y_test.shape)"
      ],
      "execution_count": null,
      "outputs": []
    },
    {
      "cell_type": "markdown",
      "metadata": {
        "id": "0SdqqgDezvXS"
      },
      "source": [
        "* 60% Train_Data(462) & 20% Validation_Data(153)"
      ]
    },
    {
      "cell_type": "code",
      "metadata": {
        "id": "yep6NPnMBxJG"
      },
      "source": [
        "X_train, X_valid, y_train, y_valid = train_test_split(X_remain, y_remain, \n",
        "                                                      test_size = int(len(Elec) * 0.2), \n",
        "                                                      random_state = 2045)\n",
        "\n",
        "print(X_train.shape, y_train.shape)\n",
        "print(X_valid.shape, y_valid.shape)\n",
        "print(X_test.shape, y_test.shape)"
      ],
      "execution_count": null,
      "outputs": []
    },
    {
      "cell_type": "markdown",
      "metadata": {
        "id": "tx1S_WzJCb2k"
      },
      "source": [
        "> ## 1) 5차 모델 Validation Error"
      ]
    },
    {
      "cell_type": "markdown",
      "metadata": {
        "id": "fzYImusB_-rP"
      },
      "source": [
        "* Train_Data로 모델 생성"
      ]
    },
    {
      "cell_type": "code",
      "metadata": {
        "id": "6VSaJgoeI4xn"
      },
      "source": [
        "from sklearn.preprocessing import PolynomialFeatures\n",
        "\n",
        "poly = PolynomialFeatures(degree = 5, include_bias = False)\n",
        "PX_5_TR = poly.fit_transform(X_train)"
      ],
      "execution_count": null,
      "outputs": []
    },
    {
      "cell_type": "code",
      "metadata": {
        "id": "2jI4U309DyiU"
      },
      "source": [
        "from sklearn.linear_model import LinearRegression\n",
        "\n",
        "Model_5 = LinearRegression()\n",
        "Model_5.fit(PX_5_TR, y_train)"
      ],
      "execution_count": null,
      "outputs": []
    },
    {
      "cell_type": "markdown",
      "metadata": {
        "id": "eADTY5MVAAZn"
      },
      "source": [
        "* Validation_Data로 y_hat(예측값) 생성 및 MSE 계산"
      ]
    },
    {
      "cell_type": "code",
      "metadata": {
        "id": "eWvNogUVJFYS"
      },
      "source": [
        "PX_5_VD = poly.fit_transform(X_valid)\n",
        "\n",
        "y_hat_5 = Model_5.predict(PX_5_VD)"
      ],
      "execution_count": null,
      "outputs": []
    },
    {
      "cell_type": "code",
      "metadata": {
        "id": "9crzE4F0D71w"
      },
      "source": [
        "from sklearn.metrics import mean_squared_error\n",
        "\n",
        "MSE_5 = mean_squared_error(y_valid, y_hat_5)\n",
        "MSE_5"
      ],
      "execution_count": null,
      "outputs": []
    },
    {
      "cell_type": "markdown",
      "metadata": {
        "id": "YM1oz3Y_DA0_"
      },
      "source": [
        "> ## 2) 9차 모델 Validation Error"
      ]
    },
    {
      "cell_type": "markdown",
      "metadata": {
        "id": "gCfldW53AOtk"
      },
      "source": [
        "* Train_Data로 모델 생성"
      ]
    },
    {
      "cell_type": "code",
      "metadata": {
        "id": "ujrXE5BNJlLJ"
      },
      "source": [
        "from sklearn.preprocessing import PolynomialFeatures\n",
        "\n",
        "poly = PolynomialFeatures(degree = 9, include_bias = False)\n",
        "PX_9_TR = poly.fit_transform(X_train)"
      ],
      "execution_count": null,
      "outputs": []
    },
    {
      "cell_type": "code",
      "metadata": {
        "id": "Ts5kCp0VEH-k"
      },
      "source": [
        "Model_9 = LinearRegression()\n",
        "Model_9.fit(PX_9_TR, y_train)"
      ],
      "execution_count": null,
      "outputs": []
    },
    {
      "cell_type": "markdown",
      "metadata": {
        "id": "ziLt-Z8BALJb"
      },
      "source": [
        "* Validation_Data로 y_hat(예측값) 생성 및 MSE 계산"
      ]
    },
    {
      "cell_type": "code",
      "metadata": {
        "id": "chStqudLJq27"
      },
      "source": [
        "PX9_valid = poly.fit_transform(X_valid)\n",
        "\n",
        "y_hat_9 = Model_9.predict(PX9_valid)"
      ],
      "execution_count": null,
      "outputs": []
    },
    {
      "cell_type": "code",
      "metadata": {
        "id": "NS18UiwwEZSb"
      },
      "source": [
        "MSE_9 = mean_squared_error(y_valid, y_hat_9)\n",
        "MSE_9"
      ],
      "execution_count": null,
      "outputs": []
    },
    {
      "cell_type": "markdown",
      "metadata": {
        "id": "tJx51kbHDKBq"
      },
      "source": [
        "> ## 3) 2개 모델 Validation Error 비교"
      ]
    },
    {
      "cell_type": "code",
      "metadata": {
        "id": "XwyaJ21FFWvs"
      },
      "source": [
        "print('5차 모델 MSE_5  : ', MSE_5)\n",
        "print('9차 모델 MSE_9  : ', MSE_9)"
      ],
      "execution_count": null,
      "outputs": []
    },
    {
      "cell_type": "markdown",
      "metadata": {
        "id": "kJorFSxR2YV8"
      },
      "source": [
        "> ## 4) 최종 9차 모델을 Test_Data에 적용"
      ]
    },
    {
      "cell_type": "markdown",
      "metadata": {
        "id": "fl7sTk6CAzXw"
      },
      "source": [
        "* Test_Data로 y_hat(예측값) 생성 및 MSE 계산"
      ]
    },
    {
      "cell_type": "code",
      "metadata": {
        "id": "O_H8hY-RF0G0"
      },
      "source": [
        "PX9_TE = poly.fit_transform(X_test)\n",
        "\n",
        "mean_squared_error(y_test, Model_9.predict(PX9_TE))"
      ],
      "execution_count": null,
      "outputs": []
    },
    {
      "cell_type": "markdown",
      "metadata": {
        "id": "6GgNUzQfBJwf"
      },
      "source": [
        "# \n",
        "# \n",
        "# \n",
        "# The End\n",
        "# \n",
        "# \n",
        "# "
      ]
    }
  ]
}
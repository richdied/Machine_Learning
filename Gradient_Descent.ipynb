{
  "nbformat": 4,
  "nbformat_minor": 0,
  "metadata": {
    "colab": {
      "name": "Gradient_Descent.ipynb",
      "provenance": [],
      "collapsed_sections": [],
      "include_colab_link": true
    },
    "kernelspec": {
      "name": "python3",
      "display_name": "Python 3"
    }
  },
  "cells": [
    {
      "cell_type": "markdown",
      "metadata": {
        "id": "view-in-github",
        "colab_type": "text"
      },
      "source": [
        "<a href=\"https://colab.research.google.com/github/richdied/Machine_Learning/blob/main/Gradient_Descent.ipynb\" target=\"_parent\"><img src=\"https://colab.research.google.com/assets/colab-badge.svg\" alt=\"Open In Colab\"/></a>"
      ]
    },
    {
      "cell_type": "markdown",
      "metadata": {
        "id": "rERYNixnjUp-"
      },
      "source": [
        "# 경사 하강법(Gradient Descent)"
      ]
    },
    {
      "cell_type": "code",
      "metadata": {
        "id": "RbPgODpVzdHI"
      },
      "source": [
        "import warnings\n",
        "warnings.filterwarnings('ignore')"
      ],
      "execution_count": null,
      "outputs": []
    },
    {
      "cell_type": "markdown",
      "metadata": {
        "id": "97NN5qcXja8D"
      },
      "source": [
        "# I. Machine( ) 정의\n",
        "\n",
        "* numpy Package"
      ]
    },
    {
      "cell_type": "code",
      "metadata": {
        "id": "7WFfR0CMi2gt"
      },
      "source": [
        "import numpy as np"
      ],
      "execution_count": null,
      "outputs": []
    },
    {
      "cell_type": "markdown",
      "metadata": {
        "id": "kx7HH8f9k0BF"
      },
      "source": [
        "* def Machine( )"
      ]
    },
    {
      "cell_type": "code",
      "metadata": {
        "id": "HAcs151Qj_Gl"
      },
      "source": [
        "def Machine(x, w, b):\n",
        "    y_hat = (w * x) + b\n",
        "    return y_hat"
      ],
      "execution_count": null,
      "outputs": []
    },
    {
      "cell_type": "markdown",
      "metadata": {
        "id": "equzYcnpk4t3"
      },
      "source": [
        "* x, w, b 객체 지정"
      ]
    },
    {
      "cell_type": "code",
      "metadata": {
        "id": "H1UOpmfskHrN"
      },
      "source": [
        "x = np.array([1, 3, 5, 7, 9])\n",
        "w = 2\n",
        "b = 1"
      ],
      "execution_count": null,
      "outputs": []
    },
    {
      "cell_type": "markdown",
      "metadata": {
        "id": "iCytCuWFk-kk"
      },
      "source": [
        "* Machine( ) 테스트"
      ]
    },
    {
      "cell_type": "code",
      "metadata": {
        "id": "9cL_MPZ_kUZ4",
        "colab": {
          "base_uri": "https://localhost:8080/"
        },
        "outputId": "3445785e-3bca-4533-cb58-306dcc7b6400"
      },
      "source": [
        "Machine(x, w, b)"
      ],
      "execution_count": null,
      "outputs": [
        {
          "output_type": "execute_result",
          "data": {
            "text/plain": [
              "array([ 3,  7, 11, 15, 19])"
            ]
          },
          "metadata": {},
          "execution_count": 5
        }
      ]
    },
    {
      "cell_type": "markdown",
      "metadata": {
        "id": "O_ZlpJPjmDAy"
      },
      "source": [
        "# II. Gradient( ) 정의\n",
        "* def Gradient( )"
      ]
    },
    {
      "cell_type": "code",
      "metadata": {
        "id": "HNgWgaxXmJWN"
      },
      "source": [
        "def Gradient(x, y, w, b):\n",
        "    y_hat = Machine(x, w, b)\n",
        "\n",
        "    dw = np.mean((y - y_hat) * (-2 * x))\n",
        "    db = np.mean((y - y_hat) * (-2))\n",
        "\n",
        "    return dw, db"
      ],
      "execution_count": null,
      "outputs": []
    },
    {
      "cell_type": "markdown",
      "metadata": {
        "id": "obtq3GHvAlP3"
      },
      "source": [
        "* Gradient( ) 테스트"
      ]
    },
    {
      "cell_type": "code",
      "metadata": {
        "id": "dopNJxl_mmmC"
      },
      "source": [
        "y = np.array([2, 4, 6, 8, 10])\n",
        "\n",
        "dw, db = Gradient(x, y, w, b)"
      ],
      "execution_count": null,
      "outputs": []
    },
    {
      "cell_type": "code",
      "metadata": {
        "id": "4TuBqxL5ms0y",
        "colab": {
          "base_uri": "https://localhost:8080/"
        },
        "outputId": "eb5719d7-9fb5-4ead-8c6e-5f55b7ff4704"
      },
      "source": [
        "print('dw is ', dw)\n",
        "print('db is ', db)"
      ],
      "execution_count": null,
      "outputs": [
        {
          "output_type": "stream",
          "name": "stdout",
          "text": [
            "dw is  66.0\n",
            "db is  10.0\n"
          ]
        }
      ]
    },
    {
      "cell_type": "markdown",
      "metadata": {
        "id": "kriXMDHXnNtH"
      },
      "source": [
        "# III. Learning( ) 정의\n",
        "* def Learning( )"
      ]
    },
    {
      "cell_type": "code",
      "metadata": {
        "id": "32gIDBJUnStp"
      },
      "source": [
        "def Learning(x, y, w, b, step):\n",
        "    dw, db = Gradient(x, y, w, b)\n",
        "    \n",
        "    uw = w - step * dw\n",
        "    ub = b - step * db\n",
        "    \n",
        "    return uw, ub"
      ],
      "execution_count": null,
      "outputs": []
    },
    {
      "cell_type": "markdown",
      "metadata": {
        "id": "YpD9p4GABAfc"
      },
      "source": [
        "* Learning( ) 테스트"
      ]
    },
    {
      "cell_type": "code",
      "metadata": {
        "id": "0fYKLNx-n8Uf"
      },
      "source": [
        "step = 0.05\n",
        "\n",
        "uw, ub = Learning(x, y, w, b, step)"
      ],
      "execution_count": null,
      "outputs": []
    },
    {
      "cell_type": "code",
      "metadata": {
        "id": "07aKd6fAoBj_",
        "colab": {
          "base_uri": "https://localhost:8080/"
        },
        "outputId": "f33ed830-1ad1-4c3e-9adf-e74c83e9b765"
      },
      "source": [
        "print('Updated_w is ', '%.3f' % uw)\n",
        "print('Updated_b is ', '%.3f' % ub)"
      ],
      "execution_count": null,
      "outputs": [
        {
          "output_type": "stream",
          "name": "stdout",
          "text": [
            "Updated_w is  -1.300\n",
            "Updated_b is  0.500\n"
          ]
        }
      ]
    },
    {
      "cell_type": "markdown",
      "metadata": {
        "id": "LAllev0opPwz"
      },
      "source": [
        "# IV. testData.csv에 적용"
      ]
    },
    {
      "cell_type": "markdown",
      "metadata": {
        "id": "b9uLbsksBGhn"
      },
      "source": [
        "* pandas & matplotlib Packages"
      ]
    },
    {
      "cell_type": "code",
      "metadata": {
        "id": "tredQulNofEn"
      },
      "source": [
        "import pandas as pd\n",
        "import matplotlib.pyplot as plt"
      ],
      "execution_count": null,
      "outputs": []
    },
    {
      "cell_type": "markdown",
      "metadata": {
        "id": "lpj334qxBP0b"
      },
      "source": [
        "* Read testData.csv"
      ]
    },
    {
      "cell_type": "code",
      "metadata": {
        "id": "zSKfJXZjoIP_"
      },
      "source": [
        "url = 'https://raw.githubusercontent.com/rusita-ai/pyData/master/testData.csv'\n",
        "\n",
        "DATA = pd.read_csv(url)"
      ],
      "execution_count": null,
      "outputs": []
    },
    {
      "cell_type": "markdown",
      "metadata": {
        "id": "bJpHDWwMBdNO"
      },
      "source": [
        "* testData.csv Information"
      ]
    },
    {
      "cell_type": "code",
      "metadata": {
        "id": "QZdbN293qIvF",
        "colab": {
          "base_uri": "https://localhost:8080/"
        },
        "outputId": "f33e4ba7-a852-4f4a-f27c-b29b053c70ae"
      },
      "source": [
        "DATA.info()"
      ],
      "execution_count": null,
      "outputs": [
        {
          "output_type": "stream",
          "name": "stdout",
          "text": [
            "<class 'pandas.core.frame.DataFrame'>\n",
            "RangeIndex: 5000 entries, 0 to 4999\n",
            "Data columns (total 2 columns):\n",
            " #   Column   Non-Null Count  Dtype  \n",
            "---  ------   --------------  -----  \n",
            " 0   inputs   5000 non-null   float64\n",
            " 1   outputs  5000 non-null   float64\n",
            "dtypes: float64(2)\n",
            "memory usage: 78.2 KB\n"
          ]
        }
      ]
    },
    {
      "cell_type": "code",
      "metadata": {
        "id": "Et-rtH7gqQqO",
        "colab": {
          "base_uri": "https://localhost:8080/",
          "height": 206
        },
        "outputId": "813686b4-6b2f-47ad-99bb-8ea3490bd9ee"
      },
      "source": [
        "DATA.head()"
      ],
      "execution_count": null,
      "outputs": [
        {
          "output_type": "execute_result",
          "data": {
            "text/html": [
              "\n",
              "  <div id=\"df-de474b0e-5593-4c36-95f9-656b853f570c\">\n",
              "    <div class=\"colab-df-container\">\n",
              "      <div>\n",
              "<style scoped>\n",
              "    .dataframe tbody tr th:only-of-type {\n",
              "        vertical-align: middle;\n",
              "    }\n",
              "\n",
              "    .dataframe tbody tr th {\n",
              "        vertical-align: top;\n",
              "    }\n",
              "\n",
              "    .dataframe thead th {\n",
              "        text-align: right;\n",
              "    }\n",
              "</style>\n",
              "<table border=\"1\" class=\"dataframe\">\n",
              "  <thead>\n",
              "    <tr style=\"text-align: right;\">\n",
              "      <th></th>\n",
              "      <th>inputs</th>\n",
              "      <th>outputs</th>\n",
              "    </tr>\n",
              "  </thead>\n",
              "  <tbody>\n",
              "    <tr>\n",
              "      <th>0</th>\n",
              "      <td>0.2362</td>\n",
              "      <td>0.162367</td>\n",
              "    </tr>\n",
              "    <tr>\n",
              "      <th>1</th>\n",
              "      <td>0.9415</td>\n",
              "      <td>0.479356</td>\n",
              "    </tr>\n",
              "    <tr>\n",
              "      <th>2</th>\n",
              "      <td>0.3495</td>\n",
              "      <td>0.095733</td>\n",
              "    </tr>\n",
              "    <tr>\n",
              "      <th>3</th>\n",
              "      <td>0.3200</td>\n",
              "      <td>-0.111783</td>\n",
              "    </tr>\n",
              "    <tr>\n",
              "      <th>4</th>\n",
              "      <td>0.8335</td>\n",
              "      <td>0.386012</td>\n",
              "    </tr>\n",
              "  </tbody>\n",
              "</table>\n",
              "</div>\n",
              "      <button class=\"colab-df-convert\" onclick=\"convertToInteractive('df-de474b0e-5593-4c36-95f9-656b853f570c')\"\n",
              "              title=\"Convert this dataframe to an interactive table.\"\n",
              "              style=\"display:none;\">\n",
              "        \n",
              "  <svg xmlns=\"http://www.w3.org/2000/svg\" height=\"24px\"viewBox=\"0 0 24 24\"\n",
              "       width=\"24px\">\n",
              "    <path d=\"M0 0h24v24H0V0z\" fill=\"none\"/>\n",
              "    <path d=\"M18.56 5.44l.94 2.06.94-2.06 2.06-.94-2.06-.94-.94-2.06-.94 2.06-2.06.94zm-11 1L8.5 8.5l.94-2.06 2.06-.94-2.06-.94L8.5 2.5l-.94 2.06-2.06.94zm10 10l.94 2.06.94-2.06 2.06-.94-2.06-.94-.94-2.06-.94 2.06-2.06.94z\"/><path d=\"M17.41 7.96l-1.37-1.37c-.4-.4-.92-.59-1.43-.59-.52 0-1.04.2-1.43.59L10.3 9.45l-7.72 7.72c-.78.78-.78 2.05 0 2.83L4 21.41c.39.39.9.59 1.41.59.51 0 1.02-.2 1.41-.59l7.78-7.78 2.81-2.81c.8-.78.8-2.07 0-2.86zM5.41 20L4 18.59l7.72-7.72 1.47 1.35L5.41 20z\"/>\n",
              "  </svg>\n",
              "      </button>\n",
              "      \n",
              "  <style>\n",
              "    .colab-df-container {\n",
              "      display:flex;\n",
              "      flex-wrap:wrap;\n",
              "      gap: 12px;\n",
              "    }\n",
              "\n",
              "    .colab-df-convert {\n",
              "      background-color: #E8F0FE;\n",
              "      border: none;\n",
              "      border-radius: 50%;\n",
              "      cursor: pointer;\n",
              "      display: none;\n",
              "      fill: #1967D2;\n",
              "      height: 32px;\n",
              "      padding: 0 0 0 0;\n",
              "      width: 32px;\n",
              "    }\n",
              "\n",
              "    .colab-df-convert:hover {\n",
              "      background-color: #E2EBFA;\n",
              "      box-shadow: 0px 1px 2px rgba(60, 64, 67, 0.3), 0px 1px 3px 1px rgba(60, 64, 67, 0.15);\n",
              "      fill: #174EA6;\n",
              "    }\n",
              "\n",
              "    [theme=dark] .colab-df-convert {\n",
              "      background-color: #3B4455;\n",
              "      fill: #D2E3FC;\n",
              "    }\n",
              "\n",
              "    [theme=dark] .colab-df-convert:hover {\n",
              "      background-color: #434B5C;\n",
              "      box-shadow: 0px 1px 3px 1px rgba(0, 0, 0, 0.15);\n",
              "      filter: drop-shadow(0px 1px 2px rgba(0, 0, 0, 0.3));\n",
              "      fill: #FFFFFF;\n",
              "    }\n",
              "  </style>\n",
              "\n",
              "      <script>\n",
              "        const buttonEl =\n",
              "          document.querySelector('#df-de474b0e-5593-4c36-95f9-656b853f570c button.colab-df-convert');\n",
              "        buttonEl.style.display =\n",
              "          google.colab.kernel.accessAllowed ? 'block' : 'none';\n",
              "\n",
              "        async function convertToInteractive(key) {\n",
              "          const element = document.querySelector('#df-de474b0e-5593-4c36-95f9-656b853f570c');\n",
              "          const dataTable =\n",
              "            await google.colab.kernel.invokeFunction('convertToInteractive',\n",
              "                                                     [key], {});\n",
              "          if (!dataTable) return;\n",
              "\n",
              "          const docLinkHtml = 'Like what you see? Visit the ' +\n",
              "            '<a target=\"_blank\" href=https://colab.research.google.com/notebooks/data_table.ipynb>data table notebook</a>'\n",
              "            + ' to learn more about interactive tables.';\n",
              "          element.innerHTML = '';\n",
              "          dataTable['output_type'] = 'display_data';\n",
              "          await google.colab.output.renderOutput(dataTable, element);\n",
              "          const docLink = document.createElement('div');\n",
              "          docLink.innerHTML = docLinkHtml;\n",
              "          element.appendChild(docLink);\n",
              "        }\n",
              "      </script>\n",
              "    </div>\n",
              "  </div>\n",
              "  "
            ],
            "text/plain": [
              "   inputs   outputs\n",
              "0  0.2362  0.162367\n",
              "1  0.9415  0.479356\n",
              "2  0.3495  0.095733\n",
              "3  0.3200 -0.111783\n",
              "4  0.8335  0.386012"
            ]
          },
          "metadata": {},
          "execution_count": 16
        }
      ]
    },
    {
      "cell_type": "markdown",
      "metadata": {
        "id": "EN0shyiHBlhx"
      },
      "source": [
        "* testData.csv Visualization\n",
        " - Distribution"
      ]
    },
    {
      "cell_type": "code",
      "metadata": {
        "id": "t-wCkffoqMVV",
        "colab": {
          "base_uri": "https://localhost:8080/",
          "height": 265
        },
        "outputId": "6410ff97-dc6b-44de-f2be-93d780c8589a"
      },
      "source": [
        "plt.scatter(DATA.inputs, DATA.outputs, s = 0.5)\n",
        "plt.show()"
      ],
      "execution_count": null,
      "outputs": [
        {
          "output_type": "display_data",
          "data": {
            "image/png": "[encoded data removed]",
            "text/plain": [
              "<Figure size 432x288 with 1 Axes>"
            ]
          },
          "metadata": {
            "needs_background": "light"
          }
        }
      ]
    },
    {
      "cell_type": "markdown",
      "metadata": {
        "id": "xfAS4CXCBtCx"
      },
      "source": [
        "* 1500번 학습 실행"
      ]
    },
    {
      "cell_type": "code",
      "metadata": {
        "id": "X4qyJ6RuqrGb"
      },
      "source": [
        "w = 2\n",
        "b = 3\n",
        "step = 0.05 "
      ],
      "execution_count": null,
      "outputs": []
    },
    {
      "cell_type": "code",
      "metadata": {
        "id": "h7qxksCvq_N3"
      },
      "source": [
        "for i in range(0, 1500):\n",
        "    uw, ub = Learning(DATA.inputs, DATA.outputs, w, b, step)\n",
        "    w = uw\n",
        "    b = ub"
      ],
      "execution_count": null,
      "outputs": []
    },
    {
      "cell_type": "code",
      "metadata": {
        "id": "t-mbdSworeDl",
        "colab": {
          "base_uri": "https://localhost:8080/"
        },
        "outputId": "2cd4ccaa-4b98-4a69-de68-66ce111b9824"
      },
      "source": [
        "print('Learned_w is ', '%.3f' % w)\n",
        "print('Learned_b is ', '%.3f' % b)"
      ],
      "execution_count": null,
      "outputs": [
        {
          "output_type": "stream",
          "name": "stdout",
          "text": [
            "Learned_w is  0.505\n",
            "Learned_b is  -0.170\n"
          ]
        }
      ]
    },
    {
      "cell_type": "markdown",
      "metadata": {
        "id": "EpDFjtOeB540"
      },
      "source": [
        "* 학습결과 회귀선 그리기"
      ]
    },
    {
      "cell_type": "code",
      "metadata": {
        "id": "IeL7N6tlr9bD",
        "colab": {
          "base_uri": "https://localhost:8080/",
          "height": 265
        },
        "outputId": "41335559-9284-4be2-a8bd-17cda613f59a"
      },
      "source": [
        "X = np.linspace(0, 1, 100)\n",
        "Y = (w * X) + b\n",
        "\n",
        "plt.scatter(DATA.inputs, DATA.outputs, s = 0.3)\n",
        "plt.plot(X, Y, '-r', linewidth = 1.5)\n",
        "plt.show()"
      ],
      "execution_count": null,
      "outputs": [
        {
          "output_type": "display_data",
          "data": {
            "image/png": "[encoded data removed]",
            "text/plain": [
              "<Figure size 432x288 with 1 Axes>"
            ]
          },
          "metadata": {
            "needs_background": "light"
          }
        }
      ]
    },
    {
      "cell_type": "markdown",
      "metadata": {
        "id": "gTVY6EO5-Um2"
      },
      "source": [
        "# V. Loss Visualization"
      ]
    },
    {
      "cell_type": "markdown",
      "metadata": {
        "id": "gfnPOnzACTul"
      },
      "source": [
        "* Gradient( )에 Loss 추가"
      ]
    },
    {
      "cell_type": "code",
      "metadata": {
        "id": "G0auOOt0-Gig"
      },
      "source": [
        "def Gradient(x, y, w, b):\n",
        "    y_hat = Machine(x, w, b)\n",
        "    \n",
        "    dw = np.mean((y - y_hat) * (-2 * x))\n",
        "    db = np.mean((y - y_hat) * (-2))\n",
        "    Loss = np.mean((y - y_hat)**2)\n",
        "\n",
        "    return dw, db, Loss"
      ],
      "execution_count": null,
      "outputs": []
    },
    {
      "cell_type": "markdown",
      "metadata": {
        "id": "FCqfJNAoCZeC"
      },
      "source": [
        "* Learning( )에 Loss 추가"
      ]
    },
    {
      "cell_type": "code",
      "metadata": {
        "id": "tDz_UQmp-gjz"
      },
      "source": [
        "def Learning(x, y, w, b, step):\n",
        "    dw, db, Loss = Gradient(x, y, w, b)\n",
        "    \n",
        "    uw = w - step * dw\n",
        "    ub = b - step * db\n",
        "    \n",
        "    Loss = Loss\n",
        "\n",
        "    return uw, ub, Loss"
      ],
      "execution_count": null,
      "outputs": []
    },
    {
      "cell_type": "markdown",
      "metadata": {
        "id": "KYzdb906CePg"
      },
      "source": [
        "* 1500번 학습 실행"
      ]
    },
    {
      "cell_type": "code",
      "metadata": {
        "id": "CxYtxjkU-2Zd"
      },
      "source": [
        "w = 2\n",
        "b = 3\n",
        "step = 0.001\n",
        "Error = []"
      ],
      "execution_count": null,
      "outputs": []
    },
    {
      "cell_type": "code",
      "metadata": {
        "id": "DFikAENA-6-x"
      },
      "source": [
        "for i in range(0, 5000):\n",
        "    uw, ub, Loss = Learning(DATA.inputs, DATA.outputs, w, b, step)\n",
        "\n",
        "    w = uw\n",
        "    b = ub\n",
        "    Error.append(Loss)"
      ],
      "execution_count": null,
      "outputs": []
    },
    {
      "cell_type": "markdown",
      "metadata": {
        "id": "qtSDqgjkCich"
      },
      "source": [
        "* Loss 감소 확인"
      ]
    },
    {
      "cell_type": "code",
      "metadata": {
        "id": "fMr6RhmW_fEs",
        "colab": {
          "base_uri": "https://localhost:8080/"
        },
        "outputId": "24cf0a5c-be2e-4c1b-be26-934c4d0b9e44"
      },
      "source": [
        "Error[0:10]"
      ],
      "execution_count": null,
      "outputs": [
        {
          "output_type": "execute_result",
          "data": {
            "text/plain": [
              "[15.595575679087696,\n",
              " 15.516493615452518,\n",
              " 15.437813155278901,\n",
              " 15.359532259084617,\n",
              " 15.28164889774523,\n",
              " 15.204161052440144,\n",
              " 15.127066714601533,\n",
              " 15.050363885861731,\n",
              " 14.97405057800144,\n",
              " 14.898124812898125]"
            ]
          },
          "metadata": {},
          "execution_count": 65
        }
      ]
    },
    {
      "cell_type": "code",
      "metadata": {
        "id": "HfaDtvIA_alg",
        "colab": {
          "base_uri": "https://localhost:8080/",
          "height": 265
        },
        "outputId": "d0d12981-fdf4-41c8-bc37-3603ab2d4e10"
      },
      "source": [
        "plt.plot(Error)\n",
        "plt.show()"
      ],
      "execution_count": null,
      "outputs": [
        {
          "output_type": "display_data",
          "data": {
            "image/png": "[encoded data removed]",
            "text/plain": [
              "<Figure size 432x288 with 1 Axes>"
            ]
          },
          "metadata": {
            "needs_background": "light"
          }
        }
      ]
    },
    {
      "cell_type": "code",
      "metadata": {
        "id": "mklIss1h_qPr",
        "colab": {
          "base_uri": "https://localhost:8080/",
          "height": 265
        },
        "outputId": "054d1e28-2a86-47bf-9704-c1da37bb8305"
      },
      "source": [
        "plt.plot(Error[0:50], '.')\n",
        "plt.show()"
      ],
      "execution_count": null,
      "outputs": [
        {
          "output_type": "display_data",
          "data": {
            "image/png": "[encoded data removed]",
            "text/plain": [
              "<Figure size 432x288 with 1 Axes>"
            ]
          },
          "metadata": {
            "needs_background": "light"
          }
        }
      ]
    },
    {
      "cell_type": "code",
      "metadata": {
        "id": "xkQIZK5T_2Jp",
        "colab": {
          "base_uri": "https://localhost:8080/",
          "height": 265
        },
        "outputId": "abef9cfa-f5fe-477b-9433-824fcecfc2de"
      },
      "source": [
        "plt.plot(Error[1450:1500], '.')\n",
        "plt.show()"
      ],
      "execution_count": null,
      "outputs": [
        {
          "output_type": "display_data",
          "data": {
            "image/png": "[encoded data removed]",
            "text/plain": [
              "<Figure size 432x288 with 1 Axes>"
            ]
          },
          "metadata": {
            "needs_background": "light"
          }
        }
      ]
    },
    {
      "cell_type": "markdown",
      "metadata": {
        "id": "DGERC1cNvZXJ"
      },
      "source": [
        "# \n",
        "# \n",
        "# \n",
        "# The End\n",
        "# \n",
        "# \n",
        "# "
      ]
    }
  ]
}